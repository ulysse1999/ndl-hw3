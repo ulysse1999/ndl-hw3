{
 "cells": [
  {
   "cell_type": "code",
   "execution_count": 63,
   "id": "fb12c3dc",
   "metadata": {},
   "outputs": [],
   "source": [
    "import networkx as nx\n",
    "from networkx.generators.classic import complete_graph\n",
    "from math import floor, ceil\n",
    "import numpy as np\n",
    "from random import choices\n",
    "\n",
    "class RandomGraph:\n",
    "    \n",
    "    def __init__(self, k):\n",
    "        \"\"\"\n",
    "        creates an initial complete graph of size k+1\n",
    "        \"\"\"\n",
    "        self.k = k\n",
    "        self.graph = nx.complete_graph(k+1)\n",
    "        \n",
    "    def grow(self, n_iterations):\n",
    "            \n",
    "        for i in range(n_iterations):\n",
    "            new_node = len(self.graph) # node numeration starts at 0\n",
    "            nodes_link_added = set()\n",
    "            n_edges_to_add = floor(self.k/2) if i % 2 == 0 else ceil(self.k/2)\n",
    "            \n",
    "            for _ in range(n_edges_to_add):\n",
    "                distrib = np.array([d if n not in nodes_link_added else 0 for n,d in self.graph.degree])\n",
    "                distrib = distrib / sum(distrib)\n",
    "                node_to_link = choices(range(len(self.graph)), weights = distrib ,k=1)[0]\n",
    "                nodes_link_added.add(node_to_link)\n",
    "                    \n",
    "                    \n",
    "            self.graph.add_node(new_node)\n",
    "            self.graph.add_edges_from([(new_node, node) for node in nodes_link_added])\n",
    "        \n",
    "        \n",
    "        \n",
    "    "
   ]
  },
  {
   "cell_type": "code",
   "execution_count": 64,
   "id": "7ca032d9",
   "metadata": {},
   "outputs": [],
   "source": [
    "g = RandomGraph(4)\n",
    "g.grow(100)"
   ]
  },
  {
   "cell_type": "code",
   "execution_count": 65,
   "id": "eba365b0",
   "metadata": {
    "scrolled": true
   },
   "outputs": [
    {
     "name": "stdout",
     "output_type": "stream",
     "text": [
      "4.0\n"
     ]
    },
    {
     "data": {
      "text/plain": [
       "(array([87., 12.,  3.,  0.,  0.,  0.,  2.,  0.,  0.,  1.]),\n",
       " array([ 2. ,  5.1,  8.2, 11.3, 14.4, 17.5, 20.6, 23.7, 26.8, 29.9, 33. ]),\n",
       " <BarContainer object of 10 artists>)"
      ]
     },
     "execution_count": 65,
     "metadata": {},
     "output_type": "execute_result"
    },
    {
     "data": {
      "image/png": "[encoded data removed]",
      "text/plain": [
       "<Figure size 432x288 with 1 Axes>"
      ]
     },
     "metadata": {
      "needs_background": "light"
     },
     "output_type": "display_data"
    }
   ],
   "source": [
    "import matplotlib.pyplot as plt\n",
    "degrees = [d for n,d in g.graph.degree]\n",
    "print(np.mean(degrees))\n",
    "plt.hist(degrees)"
   ]
  },
  {
   "cell_type": "code",
   "execution_count": 66,
   "id": "569687de",
   "metadata": {
    "scrolled": true
   },
   "outputs": [
    {
     "name": "stdout",
     "output_type": "stream",
     "text": [
      "15.0\n"
     ]
    },
    {
     "data": {
      "text/plain": [
       "(array([147.,  32.,  14.,   4.,   3.,   4.,   5.,   4.,   2.,   1.]),\n",
       " array([ 7. , 13.5, 20. , 26.5, 33. , 39.5, 46. , 52.5, 59. , 65.5, 72. ]),\n",
       " <BarContainer object of 10 artists>)"
      ]
     },
     "execution_count": 66,
     "metadata": {},
     "output_type": "execute_result"
    },
    {
     "data": {
      "image/png": "[encoded data removed]",
      "text/plain": [
       "<Figure size 432x288 with 1 Axes>"
      ]
     },
     "metadata": {
      "needs_background": "light"
     },
     "output_type": "display_data"
    }
   ],
   "source": [
    "g = RandomGraph(15)\n",
    "g.grow(200)\n",
    "degrees = [d for n,d in g.graph.degree]\n",
    "print(np.mean(degrees))\n",
    "plt.hist(degrees)"
   ]
  },
  {
   "cell_type": "code",
   "execution_count": 67,
   "id": "858392f0",
   "metadata": {},
   "outputs": [
    {
     "data": {
      "text/plain": [
       "216"
      ]
     },
     "execution_count": 67,
     "metadata": {},
     "output_type": "execute_result"
    }
   ],
   "source": [
    "len(g.graph)"
   ]
  }
 ],
 "metadata": {
  "kernelspec": {
   "display_name": "Python 3 (ipykernel)",
   "language": "python",
   "name": "python3"
  },
  "language_info": {
   "codemirror_mode": {
    "name": "ipython",
    "version": 3
   },
   "file_extension": ".py",
   "mimetype": "text/x-python",
   "name": "python",
   "nbconvert_exporter": "python",
   "pygments_lexer": "ipython3",
   "version": "3.8.10"
  }
 },
 "nbformat": 4,
 "nbformat_minor": 5
}
