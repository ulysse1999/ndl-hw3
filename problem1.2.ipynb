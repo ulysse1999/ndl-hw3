{
 "cells": [
  {
   "cell_type": "code",
   "execution_count": 1,
   "id": "fb12c3dc",
   "metadata": {},
   "outputs": [],
   "source": [
    "import networkx as nx\n",
    "from networkx.generators.classic import complete_graph\n",
    "from math import floor, ceil\n",
    "import numpy as np\n",
    "from random import choices\n",
    "\n",
    "class RandomGraph:\n",
    "    \n",
    "    def __init__(self, k):\n",
    "        \"\"\"\n",
    "        creates an initial complete graph of size k+1\n",
    "        \"\"\"\n",
    "        self.k = k\n",
    "        self.graph = nx.complete_graph(k+1)\n",
    "        \n",
    "    def grow(self, n_iterations):\n",
    "            \n",
    "        for i in range(n_iterations):\n",
    "            new_node = len(self.graph) # node numeration starts at 0\n",
    "            nodes_link_added = set()\n",
    "            n_edges_to_add = floor(self.k/2) if i % 2 == 0 else ceil(self.k/2)\n",
    "            \n",
    "            for _ in range(n_edges_to_add):\n",
    "                distrib = np.array([d if n not in nodes_link_added else 0 for n,d in self.graph.degree])\n",
    "                distrib = distrib / sum(distrib)\n",
    "                node_to_link = choices(range(len(self.graph)), weights = distrib ,k=1)[0]\n",
    "                nodes_link_added.add(node_to_link)\n",
    "                    \n",
    "                    \n",
    "            self.graph.add_node(new_node)\n",
    "            self.graph.add_edges_from([(new_node, node) for node in nodes_link_added])\n",
    "        \n",
    "        \n",
    "        \n",
    "    "
   ]
  },
  {
   "cell_type": "code",
   "execution_count": 2,
   "id": "7ca032d9",
   "metadata": {},
   "outputs": [],
   "source": [
    "g = RandomGraph(4)\n",
    "g.grow(100)"
   ]
  },
  {
   "cell_type": "code",
   "execution_count": 3,
   "id": "eba365b0",
   "metadata": {
    "scrolled": true
   },
   "outputs": [
    {
     "name": "stdout",
     "output_type": "stream",
     "text": [
      "4.0\n"
     ]
    },
    {
     "data": {
      "text/plain": [
       "(array([84.,  9.,  5.,  0.,  3.,  1.,  1.,  0.,  1.,  1.]),\n",
       " array([ 2. ,  4.4,  6.8,  9.2, 11.6, 14. , 16.4, 18.8, 21.2, 23.6, 26. ]),\n",
       " <BarContainer object of 10 artists>)"
      ]
     },
     "execution_count": 3,
     "metadata": {},
     "output_type": "execute_result"
    },
    {
     "data": {
      "image/png": "[encoded data removed]",
      "text/plain": [
       "<Figure size 432x288 with 1 Axes>"
      ]
     },
     "metadata": {
      "needs_background": "light"
     },
     "output_type": "display_data"
    }
   ],
   "source": [
    "import matplotlib.pyplot as plt\n",
    "degrees = [d for n,d in g.graph.degree]\n",
    "print(np.mean(degrees))\n",
    "plt.hist(degrees)"
   ]
  },
  {
   "cell_type": "code",
   "execution_count": 4,
   "id": "569687de",
   "metadata": {
    "scrolled": true
   },
   "outputs": [
    {
     "name": "stdout",
     "output_type": "stream",
     "text": [
      "Average degree (15 expected) : 15.0\n"
     ]
    },
    {
     "data": {
      "text/plain": [
       "Text(0, 0.5, 'Frequency')"
      ]
     },
     "execution_count": 4,
     "metadata": {},
     "output_type": "execute_result"
    },
    {
     "data": {
      "image/png": "[encoded data removed]",
      "text/plain": [
       "<Figure size 432x288 with 1 Axes>"
      ]
     },
     "metadata": {
      "needs_background": "light"
     },
     "output_type": "display_data"
    }
   ],
   "source": [
    "g = RandomGraph(15)\n",
    "g.grow(200)\n",
    "degrees = [d for n,d in g.graph.degree]\n",
    "print(\"Average degree (15 expected) :\", np.mean(degrees))\n",
    "plt.hist(degrees)\n",
    "plt.title(\"Degree distribution of a simulated 216 nodes graph with average degree 15\")\n",
    "plt.xlabel(\"Number of nodes\")\n",
    "plt.ylabel(\"Frequency\")"
   ]
  }
 ],
 "metadata": {
  "kernelspec": {
   "display_name": "Python 3 (ipykernel)",
   "language": "python",
   "name": "python3"
  },
  "language_info": {
   "codemirror_mode": {
    "name": "ipython",
    "version": 3
   },
   "file_extension": ".py",
   "mimetype": "text/x-python",
   "name": "python",
   "nbconvert_exporter": "python",
   "pygments_lexer": "ipython3",
   "version": "3.8.10"
  }
 },
 "nbformat": 4,
 "nbformat_minor": 5
}
